{
 "cells": [
  {
   "cell_type": "code",
   "execution_count": 1,
   "id": "0d9a9e11",
   "metadata": {},
   "outputs": [],
   "source": [
    "downloads_RDD = sc.textFile(\"file:///home/jawad/assigment1/*.gz\")"
   ]
  },
  {
   "cell_type": "code",
   "execution_count": 2,
   "id": "e2d6b35e",
   "metadata": {},
   "outputs": [
    {
     "name": "stderr",
     "output_type": "stream",
     "text": [
      "                                                                                \r"
     ]
    },
    {
     "data": {
      "text/plain": [
       "4267966"
      ]
     },
     "execution_count": 2,
     "metadata": {},
     "output_type": "execute_result"
    }
   ],
   "source": [
    "downloads_RDD.count()"
   ]
  },
  {
   "cell_type": "code",
   "execution_count": 3,
   "id": "cb067808",
   "metadata": {},
   "outputs": [],
   "source": [
    "downloads_RDD = downloads_RDD.map(lambda x: x.split(','))"
   ]
  },
  {
   "cell_type": "code",
   "execution_count": 4,
   "id": "b6692deb",
   "metadata": {},
   "outputs": [],
   "source": [
    "def remove_quotation(x):\n",
    "    return([xx.replace('\"', '') for xx in x])\n",
    "downloads_RDD = downloads_RDD.map(remove_quotation)"
   ]
  },
  {
   "cell_type": "code",
   "execution_count": 5,
   "id": "2011d79a",
   "metadata": {},
   "outputs": [
    {
     "data": {
      "text/plain": [
       "[['date',\n",
       "  'time',\n",
       "  'size',\n",
       "  'r_version',\n",
       "  'r_arch',\n",
       "  'r_os',\n",
       "  'package',\n",
       "  'version',\n",
       "  'country',\n",
       "  'ip_id']]"
      ]
     },
     "execution_count": 5,
     "metadata": {},
     "output_type": "execute_result"
    }
   ],
   "source": [
    "downloads_RDD.take(1)"
   ]
  },
  {
   "cell_type": "code",
   "execution_count": 6,
   "id": "8774c3a0",
   "metadata": {},
   "outputs": [
    {
     "data": {
      "text/plain": [
       "[('package', 1),\n",
       " ('colorspace', 1),\n",
       " ('farver', 1),\n",
       " ('labeling', 1),\n",
       " ('munsell', 1),\n",
       " ('RColorBrewer', 1),\n",
       " ('viridisLite', 1),\n",
       " ('gtable', 1),\n",
       " ('isoband', 1),\n",
       " ('scales', 1)]"
      ]
     },
     "execution_count": 6,
     "metadata": {},
     "output_type": "execute_result"
    }
   ],
   "source": [
    "package_download_count = downloads_RDD.map(lambda x: (x[6], 1))\n",
    "package_download_count.take(10)"
   ]
  },
  {
   "cell_type": "code",
   "execution_count": 7,
   "id": "91ff2d37",
   "metadata": {},
   "outputs": [
    {
     "name": "stderr",
     "output_type": "stream",
     "text": [
      "                                                                                \r"
     ]
    },
    {
     "data": {
      "text/plain": [
       "[('package', 1),\n",
       " ('colorspace', 16576),\n",
       " ('farver', 15880),\n",
       " ('labeling', 15355),\n",
       " ('munsell', 15984),\n",
       " ('RColorBrewer', 16230),\n",
       " ('viridisLite', 18152),\n",
       " ('gtable', 15940),\n",
       " ('isoband', 18771),\n",
       " ('scales', 17545)]"
      ]
     },
     "execution_count": 7,
     "metadata": {},
     "output_type": "execute_result"
    }
   ],
   "source": [
    "package_download_count = package_download_count.reduceByKey(lambda a,b: a+b)\n",
    "package_download_count.take(10)"
   ]
  },
  {
   "cell_type": "code",
   "execution_count": 8,
   "id": "f0b0ce2b",
   "metadata": {},
   "outputs": [
    {
     "data": {
      "text/plain": [
       "[('ggplot2', 91807),\n",
       " ('devtools', 63763),\n",
       " ('sf', 60625),\n",
       " ('rgeos', 58448),\n",
       " ('ragg', 53574),\n",
       " ('textshaping', 52893),\n",
       " ('rlang', 48714),\n",
       " ('lifecycle', 39428),\n",
       " ('pillar', 39087),\n",
       " ('vctrs', 38520)]"
      ]
     },
     "execution_count": 8,
     "metadata": {},
     "output_type": "execute_result"
    }
   ],
   "source": [
    "package_download_count.sortBy(lambda a: a[1], ascending=False).take(10)"
   ]
  },
  {
   "cell_type": "code",
   "execution_count": 9,
   "id": "d938c823",
   "metadata": {},
   "outputs": [],
   "source": [
    "#------------------------------------------------------------------------------------------------------------"
   ]
  },
  {
   "cell_type": "code",
   "execution_count": 10,
   "id": "4e6a47a1",
   "metadata": {},
   "outputs": [],
   "source": [
    "#          Assignment Questions Start from here"
   ]
  },
  {
   "cell_type": "code",
   "execution_count": 11,
   "id": "59a39993",
   "metadata": {},
   "outputs": [],
   "source": [
    "#---------------------------------    Question# 1   ---------------------------------------------------------\n",
    "#     Show number of downloads for package ggplot2.\n",
    "#------------------------------------------------------------------------------------------------------------"
   ]
  },
  {
   "cell_type": "code",
   "execution_count": 12,
   "id": "09246540",
   "metadata": {},
   "outputs": [
    {
     "name": "stderr",
     "output_type": "stream",
     "text": [
      "[Stage 7:>                                                          (0 + 1) / 1]\r"
     ]
    },
    {
     "name": "stdout",
     "output_type": "stream",
     "text": [
      "Number of downloads of package ggplot2: 91807\n"
     ]
    },
    {
     "name": "stderr",
     "output_type": "stream",
     "text": [
      "                                                                                \r"
     ]
    }
   ],
   "source": [
    "ggplot2 = downloads_RDD.filter(lambda x: x[6]==\"ggplot2\")\n",
    "ggplot2 = ggplot2.map(lambda x: (x[6], 1))\n",
    "ggplot2 = ggplot2.reduceByKey(lambda a,b: a+b)\n",
    "ggplot2_count = ggplot2.collect()[0][1]\n",
    "\n",
    "print(\"Number of downloads of package ggplot2: {0}\".format(str(ggplot2_count)))"
   ]
  },
  {
   "cell_type": "code",
   "execution_count": 13,
   "id": "d3617a43",
   "metadata": {},
   "outputs": [],
   "source": [
    "#---------------------------------    Question# 2   ---------------------------------------------------------\n",
    "#     List the highest number of downloads by a country.\n",
    "#------------------------------------------------------------------------------------------------------------"
   ]
  },
  {
   "cell_type": "code",
   "execution_count": 14,
   "id": "88439c97",
   "metadata": {},
   "outputs": [
    {
     "name": "stderr",
     "output_type": "stream",
     "text": [
      "[Stage 9:>                                                          (0 + 1) / 1]\r"
     ]
    },
    {
     "name": "stdout",
     "output_type": "stream",
     "text": [
      "US is the country with highest downlaods of: 2090805\n"
     ]
    },
    {
     "name": "stderr",
     "output_type": "stream",
     "text": [
      "                                                                                \r"
     ]
    }
   ],
   "source": [
    "package_downloads_by_country = downloads_RDD.map(lambda x: (x[8], 1))\n",
    "package_downloads_by_country = package_downloads_by_country.reduceByKey(lambda a,b: a+b)\n",
    "package_count = package_downloads_by_country.sortBy(lambda a: a[1], ascending=False).take(1)[0]\n",
    "\n",
    "print(\"{0} is the country with highest downlaods of: {1}\".format(package_count[0],str(package_count[1])))\n"
   ]
  },
  {
   "cell_type": "code",
   "execution_count": 15,
   "id": "35099f15",
   "metadata": {},
   "outputs": [],
   "source": [
    "#---------------------------------    Question# 3   ---------------------------------------------------------\n",
    "#     Show top 10 largest sized packages.\n",
    "#------------------------------------------------------------------------------------------------------------"
   ]
  },
  {
   "cell_type": "code",
   "execution_count": 16,
   "id": "2d6ca567",
   "metadata": {},
   "outputs": [
    {
     "name": "stderr",
     "output_type": "stream",
     "text": [
      "[Stage 12:>                                                         (0 + 1) / 1]\r"
     ]
    },
    {
     "name": "stdout",
     "output_type": "stream",
     "text": [
      "Package Name: h2o\tSize in Bytes: 178034661\n",
      "Package Name: h2o\tSize in Bytes: 178033325\n",
      "Package Name: h2o\tSize in Bytes: 178032483\n",
      "Package Name: h2o\tSize in Bytes: 177989341\n",
      "Package Name: h2o\tSize in Bytes: 177983544\n",
      "Package Name: h2o\tSize in Bytes: 177980761\n",
      "Package Name: h2o\tSize in Bytes: 177979361\n",
      "Package Name: h2o\tSize in Bytes: 177978340\n",
      "Package Name: h2o\tSize in Bytes: 177976363\n",
      "Package Name: h2o\tSize in Bytes: 177975872\n"
     ]
    },
    {
     "name": "stderr",
     "output_type": "stream",
     "text": [
      "                                                                                \r"
     ]
    }
   ],
   "source": [
    "header = downloads_RDD.first()\n",
    "data = downloads_RDD.filter(lambda line: line != header)\n",
    "sorted_data = data.sortBy(lambda a: int(a[2]), ascending=False)\n",
    "top_10_packages = sorted_data.take(10)\n",
    "for t in top_10_packages:\n",
    "    print(\"Package Name: {0}\\tSize in Bytes: {1}\".format(t[6],str(t[2])))"
   ]
  },
  {
   "cell_type": "code",
   "execution_count": 17,
   "id": "a4007fef",
   "metadata": {},
   "outputs": [],
   "source": [
    "#---------------------------------    Question# 4   ---------------------------------------------------------\n",
    "#      What were the top 10 most popular packages?\n",
    "#------------------------------------------------------------------------------------------------------------"
   ]
  },
  {
   "cell_type": "code",
   "execution_count": 18,
   "id": "22a47d3d",
   "metadata": {},
   "outputs": [
    {
     "name": "stderr",
     "output_type": "stream",
     "text": [
      "[Stage 13:>                                                         (0 + 1) / 1]\r"
     ]
    },
    {
     "name": "stdout",
     "output_type": "stream",
     "text": [
      "Top 10 packages with download count: \n"
     ]
    },
    {
     "name": "stderr",
     "output_type": "stream",
     "text": [
      "                                                                                \r"
     ]
    },
    {
     "data": {
      "text/plain": [
       "[('ggplot2', 91807),\n",
       " ('devtools', 63763),\n",
       " ('sf', 60625),\n",
       " ('rgeos', 58448),\n",
       " ('ragg', 53574),\n",
       " ('textshaping', 52893),\n",
       " ('rlang', 48714),\n",
       " ('lifecycle', 39428),\n",
       " ('pillar', 39087),\n",
       " ('vctrs', 38520)]"
      ]
     },
     "execution_count": 18,
     "metadata": {},
     "output_type": "execute_result"
    }
   ],
   "source": [
    "package_download_count = downloads_RDD.map(lambda x: (x[6], 1))\n",
    "popular_packages = package_download_count.reduceByKey(lambda a,b: a+b)\n",
    "popular_packages = popular_packages.sortBy(lambda a: a[1], ascending=False)\n",
    "popular_packages = popular_packages.take(10)\n",
    "print(\"Top 10 packages with download count: \")\n",
    "popular_packages"
   ]
  },
  {
   "cell_type": "code",
   "execution_count": 19,
   "id": "1c82aa09",
   "metadata": {},
   "outputs": [],
   "source": [
    "#---------------------------------    Question# 5   ---------------------------------------------------------\n",
    "#      What OS is used for downloading the most popular package?\n",
    "#------------------------------------------------------------------------------------------------------------"
   ]
  },
  {
   "cell_type": "code",
   "execution_count": 20,
   "id": "e131bb55",
   "metadata": {},
   "outputs": [
    {
     "name": "stderr",
     "output_type": "stream",
     "text": [
      "[Stage 17:>                                                         (0 + 1) / 1]\r"
     ]
    },
    {
     "name": "stdout",
     "output_type": "stream",
     "text": [
      "Most Downloaded Package:'ggplot2'\n",
      "OS used to download most downlaoded Package: 'linux-gnu'\n",
      "Download Count: '26585'\n"
     ]
    },
    {
     "name": "stderr",
     "output_type": "stream",
     "text": [
      "                                                                                \r"
     ]
    }
   ],
   "source": [
    "most_downloaded_package = downloads_RDD.map(lambda x: (x[6], 1))\n",
    "most_downloaded_package = most_downloaded_package.reduceByKey(lambda a,b: a+b)\n",
    "most_downloaded_package = most_downloaded_package.sortBy(lambda a: a[1], ascending=False).first()\n",
    "most_downloaded_package_list = downloads_RDD.filter(lambda x: x[6]==most_downloaded_package[0])\n",
    "most_downloaded_package_os = most_downloaded_package_list.map(lambda x: (x[5], 1))\n",
    "most_downloaded_package_os = most_downloaded_package_os.reduceByKey(lambda a,b: a+b)\n",
    "most_downloaded_package_os = most_downloaded_package_os.take(1)\n",
    "print(\"Most Downloaded Package:\\'{0}\\'\".format(most_downloaded_package[0]))\n",
    "print(\"OS used to download most downlaoded Package: \\'{0}\\'\".format(most_downloaded_package_os[0][0]))\n",
    "print(\"Download Count: \\'{0}\\'\".format(str(most_downloaded_package_os[0][1])))"
   ]
  },
  {
   "cell_type": "code",
   "execution_count": 21,
   "id": "21f6c7ad",
   "metadata": {},
   "outputs": [],
   "source": [
    "#---------------------------------    Question# 6   ---------------------------------------------------------\n",
    "#      What is the most popular package in Ireland?\n",
    "#------------------------------------------------------------------------------------------------------------"
   ]
  },
  {
   "cell_type": "code",
   "execution_count": 22,
   "id": "611a82d7",
   "metadata": {},
   "outputs": [
    {
     "name": "stderr",
     "output_type": "stream",
     "text": [
      "[Stage 19:>                                                         (0 + 1) / 1]\r"
     ]
    },
    {
     "name": "stdout",
     "output_type": "stream",
     "text": [
      "Top downloaded package in ireland is 'cli'\n",
      "Download Count: '151'\n"
     ]
    },
    {
     "name": "stderr",
     "output_type": "stream",
     "text": [
      "                                                                                \r"
     ]
    }
   ],
   "source": [
    "Ireland = downloads_RDD.filter(lambda x: x[8]==\"IE\")\n",
    "Ireland = Ireland.map(lambda x: (x[6], 1))\n",
    "Ireland = Ireland.reduceByKey(lambda a,b: a+b)\n",
    "top_package_in_ireland = Ireland.sortBy(lambda a: a[1], ascending=False).take(1)\n",
    "print(\"Top downloaded package in ireland is \\'{0}\\'\".format(top_package_in_ireland[0][0]))\n",
    "print(\"Download Count: \\'{0}\\'\".format(str(top_package_in_ireland[0][1])))"
   ]
  },
  {
   "cell_type": "code",
   "execution_count": 23,
   "id": "cdd3788f",
   "metadata": {},
   "outputs": [],
   "source": [
    "#---------------------------------    Question# 7   ---------------------------------------------------------\n",
    "#      What is the highest number of downloads by a single machine? What OS it has?\n",
    "#------------------------------------------------------------------------------------------------------------"
   ]
  },
  {
   "cell_type": "code",
   "execution_count": 24,
   "id": "d50cb7c3",
   "metadata": {},
   "outputs": [
    {
     "name": "stderr",
     "output_type": "stream",
     "text": [
      "[Stage 21:>                                                         (0 + 1) / 1]\r"
     ]
    },
    {
     "name": "stdout",
     "output_type": "stream",
     "text": [
      "Highest number of downloads is: 494259\n",
      "Machine ip id: '8'\n",
      "OS is: 'mingw32'\n"
     ]
    },
    {
     "name": "stderr",
     "output_type": "stream",
     "text": [
      "                                                                                \r"
     ]
    }
   ],
   "source": [
    "machine_id = downloads_RDD.map(lambda x: (x[9], 1))\n",
    "machine_id = machine_id.reduceByKey(lambda a,b: a+b)\n",
    "highest = machine_id.sortBy(lambda a: a[1], ascending=False).first()\n",
    "highest_machine = downloads_RDD.filter(lambda x: x[9]==highest[0])\n",
    "print(\"Highest number of downloads is: {0}\".format(str(highest[1])))\n",
    "print(\"Machine ip id: \\'{0}\\'\".format(highest[0]))\n",
    "print(\"OS is: \\'{0}\\'\".format(highest_machine.take(1)[0][5]))"
   ]
  },
  {
   "cell_type": "code",
   "execution_count": 25,
   "id": "d918cfa1",
   "metadata": {},
   "outputs": [],
   "source": [
    "#---------------------------------    Question# 8   ---------------------------------------------------------\n",
    "#      What OS is most popular among the R programmers?\n",
    "#------------------------------------------------------------------------------------------------------------"
   ]
  },
  {
   "cell_type": "code",
   "execution_count": 26,
   "id": "f3cd7fa5",
   "metadata": {},
   "outputs": [
    {
     "name": "stderr",
     "output_type": "stream",
     "text": [
      "[Stage 24:>                                                         (0 + 1) / 1]\r"
     ]
    },
    {
     "name": "stdout",
     "output_type": "stream",
     "text": [
      "Most Popular OS among R programmers is: 'mingw32'\n",
      "User count: '1422021'\n"
     ]
    },
    {
     "name": "stderr",
     "output_type": "stream",
     "text": [
      "                                                                                \r"
     ]
    }
   ],
   "source": [
    "rlang_users = downloads_RDD.filter(lambda x: x[5]!=\"NA\")\n",
    "rlang_users = rlang_users.map(lambda x: (x[5], 1))\n",
    "rlang_users = rlang_users.reduceByKey(lambda a,b: a+b)\n",
    "popular_OS = rlang_users.sortBy(lambda a: a[1], ascending=False).take(1)\n",
    "print(\"Most Popular OS among R programmers is: \\'{0}\\'\".format(popular_OS[0][0]))\n",
    "print(\"User count: \\'{0}\\'\".format(str(popular_OS[0][1])))"
   ]
  },
  {
   "cell_type": "code",
   "execution_count": 27,
   "id": "2da58ab4",
   "metadata": {},
   "outputs": [],
   "source": [
    "#---------------------------------    Question# 9   ---------------------------------------------------------\n",
    "#      How many R users still use 32 bit machines?\n",
    "#------------------------------------------------------------------------------------------------------------"
   ]
  },
  {
   "cell_type": "code",
   "execution_count": 28,
   "id": "f0252e3a",
   "metadata": {},
   "outputs": [
    {
     "name": "stderr",
     "output_type": "stream",
     "text": [
      "[Stage 26:>                                                         (0 + 1) / 1]\r"
     ]
    },
    {
     "name": "stdout",
     "output_type": "stream",
     "text": [
      "32bit Machine users Count: '37669'\n"
     ]
    },
    {
     "name": "stderr",
     "output_type": "stream",
     "text": [
      "                                                                                \r"
     ]
    }
   ],
   "source": [
    "user_32bit_count = downloads_RDD.filter(lambda x: x[4]==\"i386\").count()\n",
    "print(\"32bit Machine users Count: \\'{0}\\'\".format(str(user_32bit_count)))"
   ]
  },
  {
   "cell_type": "code",
   "execution_count": 29,
   "id": "0c9a6933",
   "metadata": {},
   "outputs": [],
   "source": [
    "#---------------------------------    Question# 10   --------------------------------------------------------\n",
    "#      List total number of incomplete records - lines which have missing values.\n",
    "#------------------------------------------------------------------------------------------------------------"
   ]
  },
  {
   "cell_type": "code",
   "execution_count": 30,
   "id": "4e1b0e1c",
   "metadata": {},
   "outputs": [
    {
     "name": "stderr",
     "output_type": "stream",
     "text": [
      "[Stage 27:>                                                         (0 + 1) / 1]\r"
     ]
    },
    {
     "name": "stdout",
     "output_type": "stream",
     "text": [
      "There are '2189783' lines with missing values\n"
     ]
    },
    {
     "name": "stderr",
     "output_type": "stream",
     "text": [
      "                                                                                \r"
     ]
    }
   ],
   "source": [
    "missing_count = downloads_RDD.filter(lambda x: x[0]==\"NA\" or x[1]==\"NA\" or x[2]==\"NA\" \n",
    "                                     or x[3]==\"NA\" or x[4]==\"NA\" or x[5]==\"NA\" or x[6]==\"NA\" \n",
    "                                     or x[7]==\"NA\" or x[8]==\"NA\" or x[9]==\"NA\").count()\n",
    "print(\"There are \\'{0}\\' lines with missing values\".format(str(missing_count)))"
   ]
  },
  {
   "cell_type": "code",
   "execution_count": null,
   "id": "7228e535",
   "metadata": {},
   "outputs": [],
   "source": []
  }
 ],
 "metadata": {
  "kernelspec": {
   "display_name": "Python 3 (ipykernel)",
   "language": "python",
   "name": "python3"
  },
  "language_info": {
   "codemirror_mode": {
    "name": "ipython",
    "version": 3
   },
   "file_extension": ".py",
   "mimetype": "text/x-python",
   "name": "python",
   "nbconvert_exporter": "python",
   "pygments_lexer": "ipython3",
   "version": "3.8.10"
  }
 },
 "nbformat": 4,
 "nbformat_minor": 5
}
